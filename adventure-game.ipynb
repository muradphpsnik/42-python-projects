{
 "cells": [
  {
   "cell_type": "code",
   "execution_count": 4,
   "id": "level-kennedy",
   "metadata": {
    "scrolled": true
   },
   "outputs": [
    {
     "name": "stdout",
     "output_type": "stream",
     "text": [
      "What is your name? Murad\n",
      "Hello, Murad\n",
      "\n",
      "What's up? Right now you are standing in front of a gigantic mountain, and you can see descents around all of it. There are\n",
      "many different birds flying around. You just have a target to reach a peak of this mountain. What will you use?\n",
      "____________________\n",
      "A. Paraphernalia for climbers.\n",
      "B. Use hands as a real man!\n",
      "C. Ask a dark guy standing near for a help.\n",
      "\n",
      "C\n",
      "He was a gay-maniac. He raped and fucked you. There is no reason to live anymore, Murad\n"
     ]
    }
   ],
   "source": [
    "import datetime\n",
    "import re\n",
    "name = input(\"What is your name? \")\n",
    "print(\"Hello, \" + name)\n",
    "intro = \"\"\"\n",
    "What's up? Right now you are standing in front of a gigantic mountain, and you can see descents around all of it. There are\n",
    "many different birds flying around. You just have a target to reach a peak of this mountain. What will you use?\n",
    "____________________\n",
    "A. Paraphernalia for climbers.\n",
    "B. Use hands as a real man!\n",
    "C. Ask a dark guy standing near for a help.\n",
    "\"\"\"\n",
    "saving = \"\"\"\n",
    "Now you are trying to climb the mountain! It is very difficult because it is your first experience.\n",
    "You are going above the earth for like 10 meters! BUT!!!\n",
    "You dropped your rope and now you are hanged up in the fucking air!!! What will you do?\n",
    "____________________\n",
    "A. Swing and try to catch hold of nearly sticking out stick\n",
    "B. Try to speak animal language and call an eagle for the help.\n",
    "C. Grow the wings and fly like a dove.\n",
    "    \"\"\"\n",
    "regex1 = '[aA]'\n",
    "print(intro)\n",
    "ans_1 = input()\n",
    "result1 = re.match(regex1, ans_1)\n",
    "regex2 = '[bB]'\n",
    "result2 = re.match(regex2, ans_1)\n",
    "if result1 :\n",
    "    print(saving)\n",
    "    ans_2 = input()\n",
    "    regex_01 = '[aA]'\n",
    "    result_01 = re.match(regex_01, ans_2)\n",
    "    regex_02 = '[bB]'\n",
    "    result_02 = re.match(regex_02, ans_2)\n",
    "    if result_01 :\n",
    "        print(\"You saved yourself! Congratulations!\")\n",
    "    elif result_02 :\n",
    "        print(\"You do not fucking now animal language!!!! You died\")\n",
    "    else :\n",
    "        print(\"You are not in a fantastic world. You dies\")\n",
    "        \n",
    "elif result2:\n",
    "    print(\"You are not a real man! You are just an ass. You fell and died, idiot.\")\n",
    "else :\n",
    "    print(\"He was a gay-maniac. He raped and fucked you. There is no reason to live anymore, \" + name)"
   ]
  },
  {
   "cell_type": "code",
   "execution_count": null,
   "id": "atmospheric-information",
   "metadata": {},
   "outputs": [],
   "source": []
  }
 ],
 "metadata": {
  "kernelspec": {
   "display_name": "Python 3",
   "language": "python",
   "name": "python3"
  },
  "language_info": {
   "codemirror_mode": {
    "name": "ipython",
    "version": 3
   },
   "file_extension": ".py",
   "mimetype": "text/x-python",
   "name": "python",
   "nbconvert_exporter": "python",
   "pygments_lexer": "ipython3",
   "version": "3.9.1"
  },
  "widgets": {
   "application/vnd.jupyter.widget-state+json": {
    "state": {},
    "version_major": 2,
    "version_minor": 0
   }
  }
 },
 "nbformat": 4,
 "nbformat_minor": 5
}
