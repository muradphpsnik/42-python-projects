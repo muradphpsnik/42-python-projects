{
 "cells": [
  {
   "cell_type": "code",
   "execution_count": 6,
   "id": "unauthorized-sitting",
   "metadata": {
    "scrolled": true
   },
   "outputs": [
    {
     "name": "stdout",
     "output_type": "stream",
     "text": [
      "Hello! You are welcome to play a game Guess Number. Start now and try to guess number from 0 to 100\n",
      "Your number: 56\n",
      "It is smaller\n"
     ]
    }
   ],
   "source": [
    "import random\n",
    "import re\n",
    "random_num = random.randrange(0,101,2)\n",
    "print(\"Hello! You are welcome to play a game Guess Number. Start now and try to guess number from 0 to 100\")\n",
    "user_num = int(input(\"Your number: \"))\n",
    "while user_num != random_num:\n",
    "    if user_num < random_num :\n",
    "        print(\"It is smaller\")\n",
    "        break\n",
    "    elif user_num > random_num and user_num < 101:\n",
    "        print(\"It is larger\")\n",
    "        break\n",
    "    elif user_num >= 101 :\n",
    "        print(\"I told you from 0 to 100!\")\n",
    "        break\n",
    "    else:\n",
    "        print(\"You guessed it! Congratulations!\")"
   ]
  },
  {
   "cell_type": "code",
   "execution_count": null,
   "id": "brave-edition",
   "metadata": {},
   "outputs": [],
   "source": []
  }
 ],
 "metadata": {
  "kernelspec": {
   "display_name": "Python 3",
   "language": "python",
   "name": "python3"
  },
  "language_info": {
   "codemirror_mode": {
    "name": "ipython",
    "version": 3
   },
   "file_extension": ".py",
   "mimetype": "text/x-python",
   "name": "python",
   "nbconvert_exporter": "python",
   "pygments_lexer": "ipython3",
   "version": "3.9.1"
  }
 },
 "nbformat": 4,
 "nbformat_minor": 5
}
