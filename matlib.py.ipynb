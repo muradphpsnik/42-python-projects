{
 "cells": [
  {
   "cell_type": "code",
   "execution_count": 2,
   "id": "agricultural-smell",
   "metadata": {},
   "outputs": [
    {
     "name": "stdout",
     "output_type": "stream",
     "text": [
      "Input any adjective ypu want: beautiful\n",
      "Input any type of a bird you want: dove\n",
      "Select any room at house you want: bathroom\n",
      "Choose any verb you wantsit\n",
      "It was a beautiful, cold Novermber day. I woke up to the beautiful smell of dove roasting in the bathroom downastairs. I sit down the stairs to see if I could help someone.\n"
     ]
    }
   ],
   "source": [
    "adjective = input(\"Input any adjective ypu want: \")\n",
    "bird_type = input(\"Input any type of a bird you want: \")\n",
    "house_room = input(\"Select any room at house you want: \")\n",
    "verb = input(\"Choose any verb you want\")\n",
    "madlib = \"It was a \" + adjective + \", cold Novermber day. I woke up to the \" + adjective + \" smell of \" + bird_type + \" roasting in the \" + house_room + \" downastairs. I \" + verb + \" down the stairs to see if I could help someone.\"\n",
    "print(madlib)"
   ]
  },
  {
   "cell_type": "code",
   "execution_count": null,
   "id": "qualified-fundamental",
   "metadata": {},
   "outputs": [],
   "source": []
  }
 ],
 "metadata": {
  "kernelspec": {
   "display_name": "Python 3",
   "language": "python",
   "name": "python3"
  },
  "language_info": {
   "codemirror_mode": {
    "name": "ipython",
    "version": 3
   },
   "file_extension": ".py",
   "mimetype": "text/x-python",
   "name": "python",
   "nbconvert_exporter": "python",
   "pygments_lexer": "ipython3",
   "version": "3.9.1"
  }
 },
 "nbformat": 4,
 "nbformat_minor": 5
}
